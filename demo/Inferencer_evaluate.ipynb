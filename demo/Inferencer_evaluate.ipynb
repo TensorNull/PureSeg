{
 "cells": [
  {
   "cell_type": "markdown",
   "metadata": {},
   "source": [
    "## MMDet\n",
    "https://mmdetection.readthedocs.io/zh-cn/latest/user_guides/inference.html?highlight=DetInferencer"
   ]
  },
  {
   "cell_type": "code",
   "execution_count": null,
   "metadata": {},
   "outputs": [],
   "source": [
    "import mmcv\n",
    "array = mmcv.imread('../data/NWPU/NWPU VHR-10 dataset/positive image set/483.jpg')"
   ]
  },
  {
   "cell_type": "code",
   "execution_count": null,
   "metadata": {},
   "outputs": [],
   "source": [
    "from mmdet.apis import DetInferencer\n",
    "\n",
    "r50_inferencer = DetInferencer(\n",
    "    model=\"/nfs/home/3002_hehui/xmx/PureSeg/work_dirs/mask2former_r50_nwpu/mask2former_r50_nwpu.py\",\n",
    "    weights=\"/nfs/home/3002_hehui/xmx/PureSeg/work_dirs/mask2former_r50_nwpu/best_coco_bbox_mAP_epoch_250.pth\",\n",
    ")\n",
    "\n",
    "r50_inferencer(array,show=True,out_dir='outputs/')"
   ]
  },
  {
   "cell_type": "code",
   "execution_count": null,
   "metadata": {},
   "outputs": [],
   "source": [
    "from mmdet.apis import DetInferencer\n",
    "\n",
    "swinv2_inferencer = DetInferencer(\n",
    "    model=\"/nfs/home/3002_hehui/xmx/PureSeg/work_dirs/mask2former_swv2-t_nwpu/mask2former_swv2-t_nwpu.py\",\n",
    "    weights=\"/nfs/home/3002_hehui/xmx/PureSeg/work_dirs/mask2former_swv2-t_nwpu/best_coco_bbox_mAP_epoch_265.pth\",\n",
    ")\n",
    "\n",
    "swinv2_inferencer(array,show=True,out_dir='outputs/')"
   ]
  },
  {
   "cell_type": "code",
   "execution_count": null,
   "metadata": {},
   "outputs": [],
   "source": [
    "from mmdet.apis import DetInferencer\n",
    "\n",
    "swinv2_inferencer = DetInferencer(\n",
    "    model=\"/nfs/home/3002_hehui/xmx/PureSeg/work_dirs/mask2former_swv2-t_nwpu/mask2former_swv2-t_nwpu.py\",\n",
    "    weights=\"/nfs/home/3002_hehui/xmx/PureSeg/work_dirs/mask2former_swv2-t_nwpu/best_coco_bbox_mAP_epoch_265.pth\",\n",
    ")\n",
    "\n",
    "swinv2_inferencer(array,show=True,out_dir='outputs/')"
   ]
  },
  {
   "cell_type": "code",
   "execution_count": null,
   "metadata": {},
   "outputs": [],
   "source": [
    "from mmdet.apis import DetInferencer\n",
    "\n",
    "convnextv2_inferencer = DetInferencer(\n",
    "    model=\"/nfs/home/3002_hehui/xmx/PureSeg/work_dirs/mask2former_convnextv2-large_nwpu/mask2former_convnextv2-large_nwpu.py\",\n",
    "    weights=\"/nfs/home/3002_hehui/xmx/PureSeg/work_dirs/mask2former_convnextv2-large_nwpu/best_coco_bbox_mAP_epoch_275.pth\",\n",
    ")\n",
    "\n",
    "convnextv2_inferencer(array,show=True,out_dir='outputs/')"
   ]
  },
  {
   "cell_type": "code",
   "execution_count": null,
   "metadata": {},
   "outputs": [],
   "source": [
    "from mmdet.apis import DetInferencer\n",
    "\n",
    "dinov2_inferencer = DetInferencer(\n",
    "    model=\"/nfs/home/3002_hehui/xmx/PureSeg/work_dirs/mask2former_dinov2-small_nwpu/mask2former_dinov2-small_nwpu.py\",\n",
    "    weights=\"/nfs/home/3002_hehui/xmx/PureSeg/work_dirs/mask2former_dinov2-small_nwpu/best_coco_bbox_mAP_epoch_265.pth\",\n",
    ")\n",
    "\n",
    "dinov2_inferencer(array,show=True,out_dir='outputs/')"
   ]
  },
  {
   "cell_type": "code",
   "execution_count": null,
   "metadata": {},
   "outputs": [],
   "source": [
    "from mmdet.apis import DetInferencer\n",
    "\n",
    "eva02_inferencer = DetInferencer(\n",
    "    model=\"/nfs/home/3002_hehui/xmx/PureSeg/work_dirs/mask2former_eva02_tiny_nwpu/mask2former_eva02_tiny_nwpu.py\",\n",
    "    weights=\"/nfs/home/3002_hehui/xmx/PureSeg/work_dirs/mask2former_eva02_tiny_nwpu/best_coco_bbox_mAP_epoch_300.pth\",\n",
    ")\n",
    "\n",
    "eva02_inferencer(array,show=True,out_dir='outputs/')"
   ]
  },
  {
   "cell_type": "code",
   "execution_count": null,
   "metadata": {},
   "outputs": [],
   "source": []
  },
  {
   "cell_type": "markdown",
   "metadata": {},
   "source": [
    "### MMSeg \n",
    "https://mmsegmentation.readthedocs.io/zh-cn/latest/user_guides/3_inference.html?highlight=推理#id2"
   ]
  },
  {
   "cell_type": "code",
   "execution_count": null,
   "metadata": {},
   "outputs": [],
   "source": [
    "from mmseg.apis import init_model, inference_model, show_result_pyplot\n",
    "\n",
    "config_path = 'configs/sem/mask2former_eva02-tiny_potsdam.py'\n",
    "checkpoint_path = 'work_dirs/mask2former_eva02-tiny_potsdam/best_mIoU_epoch_245.pth'\n",
    "img_path = 'demo/demo.png'\n",
    "\n",
    "\n",
    "# 从配置文件和权重文件构建模型\n",
    "model = init_model(config_path, checkpoint_path, device='cuda:0')\n",
    "\n",
    "# 推理给定图像\n",
    "result = inference_model(model, img_path)\n",
    "\n",
    "# 展示分割结果\n",
    "vis_image = show_result_pyplot(model, img_path, result)\n",
    "\n",
    "# 保存可视化结果，输出图像将在 `workdirs/result.png` 路径下找到\n",
    "vis_iamge = show_result_pyplot(model, img_path, result, out_file='work_dirs/result.png')\n",
    "\n",
    "# 修改展示图像的时间，注意 0 是表示“无限”的特殊值\n",
    "vis_image = show_result_pyplot(model, img_path, result, wait_time=5)"
   ]
  }
 ],
 "metadata": {
  "kernelspec": {
   "display_name": "XMX",
   "language": "python",
   "name": "python3"
  },
  "language_info": {
   "codemirror_mode": {
    "name": "ipython",
    "version": 3
   },
   "file_extension": ".py",
   "mimetype": "text/x-python",
   "name": "python",
   "nbconvert_exporter": "python",
   "pygments_lexer": "ipython3",
   "version": "3.10.13"
  }
 },
 "nbformat": 4,
 "nbformat_minor": 2
}
